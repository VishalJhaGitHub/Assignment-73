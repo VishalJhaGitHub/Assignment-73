{
 "cells": [
  {
   "cell_type": "code",
   "execution_count": 1,
   "id": "b64d3a88-e630-42e9-93b3-e5af941f39bd",
   "metadata": {},
   "outputs": [
    {
     "name": "stdout",
     "output_type": "stream",
     "text": [
      "Accuracy: 1.0\n"
     ]
    }
   ],
   "source": [
    "#1. Write a Python code to implement the KNN classifier algorithm on load_iris dataset in sklearn.datasets.\n",
    "\n",
    "#Ans\n",
    "\n",
    "from sklearn.datasets import load_iris\n",
    "from sklearn.model_selection import train_test_split\n",
    "from sklearn.neighbors import KNeighborsClassifier\n",
    "from sklearn.metrics import accuracy_score\n",
    "\n",
    "# Load the iris dataset\n",
    "iris = load_iris()\n",
    "X = iris.data\n",
    "y = iris.target\n",
    "\n",
    "# Split the dataset into training and test sets\n",
    "X_train, X_test, y_train, y_test = train_test_split(X, y, test_size=0.2, random_state=42)\n",
    "\n",
    "# Create and fit the KNN classifier model\n",
    "knn = KNeighborsClassifier(n_neighbors=3)\n",
    "knn.fit(X_train, y_train)\n",
    "\n",
    "# Make predictions on the test data\n",
    "y_pred = knn.predict(X_test)\n",
    "\n",
    "# Calculate the accuracy of the model\n",
    "accuracy = accuracy_score(y_test, y_pred)\n",
    "print(\"Accuracy:\", accuracy)"
   ]
  },
  {
   "cell_type": "code",
   "execution_count": 2,
   "id": "67c48b11-e802-4320-b2fe-2574e7eb8bb8",
   "metadata": {},
   "outputs": [
    {
     "name": "stdout",
     "output_type": "stream",
     "text": [
      "Mean Squared Error: 1.1186823858768293\n"
     ]
    }
   ],
   "source": [
    "#2. Write a Python code to implement the KNN regressor algorithm on load_boston dataset in sklearn.datasets.\n",
    "\n",
    "#Ans\n",
    "\n",
    "from sklearn.datasets import fetch_california_housing\n",
    "from sklearn.model_selection import train_test_split\n",
    "from sklearn.neighbors import KNeighborsRegressor\n",
    "from sklearn.metrics import mean_squared_error\n",
    "\n",
    "# Load the California housing dataset\n",
    "california_housing = fetch_california_housing(as_frame=True)\n",
    "\n",
    "# Get the feature matrix (X) and target vector (y)\n",
    "X = california_housing.data\n",
    "y = california_housing.target\n",
    "\n",
    "# Split the data into training and testing sets\n",
    "X_train, X_test, y_train, y_test = train_test_split(X, y, test_size=0.2, random_state=42)\n",
    "\n",
    "# Create and fit the KNN regressor model\n",
    "knn = KNeighborsRegressor(n_neighbors=5)\n",
    "knn.fit(X_train, y_train)\n",
    "\n",
    "# Make predictions on the test data\n",
    "y_pred = knn.predict(X_test)\n",
    "\n",
    "# Evaluate the model using mean squared error (MSE)\n",
    "mse = mean_squared_error(y_test, y_pred)\n",
    "print(\"Mean Squared Error:\", mse)"
   ]
  },
  {
   "cell_type": "code",
   "execution_count": 3,
   "id": "15d62aaa-1bdc-47ab-b0d4-7934e1119802",
   "metadata": {},
   "outputs": [
    {
     "name": "stdout",
     "output_type": "stream",
     "text": [
      "Optimal K value: 3\n"
     ]
    }
   ],
   "source": [
    "#3. Write a Python code snippet to find the optimal value of K for the KNN classifier algorithm using cross-validation on load_iris dataset in sklearn.datasets.\n",
    "\n",
    "#Ans\n",
    "\n",
    "from sklearn.datasets import load_iris\n",
    "from sklearn.model_selection import train_test_split\n",
    "from sklearn.neighbors import KNeighborsClassifier\n",
    "from sklearn.model_selection import cross_val_score\n",
    "\n",
    "# Load the iris dataset\n",
    "iris = load_iris()\n",
    "X = iris.data\n",
    "y = iris.target\n",
    "\n",
    "# Split the data into training and test sets\n",
    "X_train, X_test, y_train, y_test = train_test_split(X, y, test_size=0.2, random_state=42)\n",
    "\n",
    "# Define a list of K values to try\n",
    "k_values = [1, 3, 5, 7, 9, 11, 13, 15]\n",
    "\n",
    "# Iterate over different K values and calculate cross-validation scores\n",
    "cv_scores = []\n",
    "for k in k_values:\n",
    "    knn = KNeighborsClassifier(n_neighbors=k)\n",
    "    scores = cross_val_score(knn, X_train, y_train, cv=5)\n",
    "    cv_scores.append(scores.mean())\n",
    "\n",
    "# Find the optimal K value with the highest cross-validation score\n",
    "optimal_k = k_values[cv_scores.index(max(cv_scores))]\n",
    "\n",
    "print(\"Optimal K value:\", optimal_k)"
   ]
  },
  {
   "cell_type": "code",
   "execution_count": 4,
   "id": "5919ea78-499f-4ce6-b0df-1ea8fe66cbd5",
   "metadata": {},
   "outputs": [
    {
     "name": "stdout",
     "output_type": "stream",
     "text": [
      "Mean Squared Error: 20.60552941176471\n"
     ]
    }
   ],
   "source": [
    "#4. Implement the KNN regressor algorithm with feature scaling on load_boston dataset in sklearn.datasets.\n",
    "\n",
    "#Ans\n",
    "\n",
    "import pandas as pd\n",
    "import numpy as np\n",
    "from sklearn.model_selection import train_test_split\n",
    "from sklearn.neighbors import KNeighborsRegressor\n",
    "from sklearn.preprocessing import StandardScaler\n",
    "from sklearn.metrics import mean_squared_error\n",
    "\n",
    "# Fetch the Boston housing dataset from the original source\n",
    "data_url = \"http://lib.stat.cmu.edu/datasets/boston\"\n",
    "raw_df = pd.read_csv(data_url, sep=\"\\s+\", skiprows=22, header=None)\n",
    "data = np.hstack([raw_df.values[::2, :], raw_df.values[1::2, :2]])\n",
    "target = raw_df.values[1::2, 2]\n",
    "\n",
    "# Split the data into features and target variables\n",
    "X = data\n",
    "y = target\n",
    "\n",
    "# Split the data into training and test sets\n",
    "X_train, X_test, y_train, y_test = train_test_split(X, y, test_size=0.2, random_state=42)\n",
    "\n",
    "# Scale the features using StandardScaler\n",
    "scaler = StandardScaler()\n",
    "X_train_scaled = scaler.fit_transform(X_train)\n",
    "X_test_scaled = scaler.transform(X_test)\n",
    "\n",
    "# Create and fit the KNN regressor model\n",
    "knn = KNeighborsRegressor(n_neighbors=5)\n",
    "knn.fit(X_train_scaled, y_train)\n",
    "\n",
    "# Make predictions on the test data\n",
    "y_pred = knn.predict(X_test_scaled)\n",
    "\n",
    "# Calculate the mean squared error\n",
    "mse = mean_squared_error(y_test, y_pred)\n",
    "print(\"Mean Squared Error:\", mse)"
   ]
  },
  {
   "cell_type": "code",
   "execution_count": 5,
   "id": "1c5d3ad1-f0e3-49f1-9232-fe48b88e46d3",
   "metadata": {},
   "outputs": [
    {
     "name": "stdout",
     "output_type": "stream",
     "text": [
      "Accuracy: 1.0\n"
     ]
    }
   ],
   "source": [
    "#5. Write a Python code snippet to implement the KNN classifier algorithm with weighted voting on load_iris dataset in sklearn.datasets.\n",
    "\n",
    "#Ans\n",
    "\n",
    "from sklearn.datasets import load_iris\n",
    "from sklearn.model_selection import train_test_split\n",
    "from sklearn.neighbors import KNeighborsClassifier\n",
    "\n",
    "# Load the iris dataset\n",
    "iris = load_iris()\n",
    "X = iris.data\n",
    "y = iris.target\n",
    "\n",
    "# Split the data into training and test sets\n",
    "X_train, X_test, y_train, y_test = train_test_split(X, y, test_size=0.2, random_state=42)\n",
    "\n",
    "# Create and fit the KNN classifier model with weighted voting\n",
    "knn = KNeighborsClassifier(n_neighbors=5, weights='distance')\n",
    "knn.fit(X_train, y_train)\n",
    "\n",
    "# Make predictions on the test data\n",
    "y_pred = knn.predict(X_test)\n",
    "\n",
    "# Calculate the accuracy of the model\n",
    "accuracy = knn.score(X_test, y_test)\n",
    "print(\"Accuracy:\", accuracy)"
   ]
  },
  {
   "cell_type": "code",
   "execution_count": 6,
   "id": "8bd65ea9-b70a-4bcc-8eed-cf0257ab2411",
   "metadata": {},
   "outputs": [
    {
     "name": "stdout",
     "output_type": "stream",
     "text": [
      "Accuracy: 1.0\n"
     ]
    }
   ],
   "source": [
    "#6. Implement a function to standardise the features before applying KNN classifier.\n",
    "\n",
    "#Ans\n",
    "\n",
    "from sklearn.datasets import load_iris\n",
    "from sklearn.model_selection import train_test_split\n",
    "from sklearn.neighbors import KNeighborsClassifier\n",
    "from sklearn.preprocessing import StandardScaler\n",
    "\n",
    "def knn_classifier_with_standardization():\n",
    "    # Load the iris dataset\n",
    "    iris = load_iris()\n",
    "    X = iris.data\n",
    "    y = iris.target\n",
    "\n",
    "    # Split the data into training and test sets\n",
    "    X_train, X_test, y_train, y_test = train_test_split(X, y, test_size=0.2, random_state=42)\n",
    "\n",
    "    # Standardize the features\n",
    "    scaler = StandardScaler()\n",
    "    X_train_scaled = scaler.fit_transform(X_train)\n",
    "    X_test_scaled = scaler.transform(X_test)\n",
    "\n",
    "    # Create and fit the KNN classifier model\n",
    "    knn = KNeighborsClassifier(n_neighbors=5)\n",
    "    knn.fit(X_train_scaled, y_train)\n",
    "\n",
    "    # Make predictions on the standardized test data\n",
    "    y_pred = knn.predict(X_test_scaled)\n",
    "\n",
    "    # Calculate the accuracy of the model\n",
    "    accuracy = knn.score(X_test_scaled, y_test)\n",
    "    print(\"Accuracy:\", accuracy)\n",
    "\n",
    "# Call the function\n",
    "knn_classifier_with_standardization()"
   ]
  },
  {
   "cell_type": "code",
   "execution_count": 7,
   "id": "7ad6ecfd-cde0-44f7-a548-38ebc4a9de07",
   "metadata": {},
   "outputs": [
    {
     "name": "stdout",
     "output_type": "stream",
     "text": [
      "Euclidean distance: 5.196152422706632\n"
     ]
    }
   ],
   "source": [
    "#7. Write a Python function to calculate the euclidean distance between two points.\n",
    "\n",
    "#Ans\n",
    "\n",
    "import math\n",
    "\n",
    "def euclidean_distance(point1, point2):\n",
    "    if len(point1) != len(point2):\n",
    "        raise ValueError(\"The dimensions of the two points must be the same.\")\n",
    "\n",
    "    squared_distance = sum((p1 - p2) ** 2 for p1, p2 in zip(point1, point2))\n",
    "    distance = math.sqrt(squared_distance)\n",
    "    return distance\n",
    "\n",
    "# Example usage\n",
    "point1 = (1, 2, 3)\n",
    "point2 = (4, 5, 6)\n",
    "distance = euclidean_distance(point1, point2)\n",
    "print(\"Euclidean distance:\", distance)"
   ]
  },
  {
   "cell_type": "code",
   "execution_count": 8,
   "id": "627ec1fa-cd43-4e8d-af3b-efefc3e62b12",
   "metadata": {},
   "outputs": [
    {
     "name": "stdout",
     "output_type": "stream",
     "text": [
      "Manhattan distance: 9\n"
     ]
    }
   ],
   "source": [
    "#8. Write a Python function to calculate the manhattan distance between two points.\n",
    "\n",
    "#Ans\n",
    "\n",
    "def manhattan_distance(point1, point2):\n",
    "    if len(point1) != len(point2):\n",
    "        raise ValueError(\"The dimensions of the two points must be the same.\")\n",
    "\n",
    "    distance = sum(abs(p1 - p2) for p1, p2 in zip(point1, point2))\n",
    "    return distance\n",
    "\n",
    "# Example usage\n",
    "point1 = (1, 2, 3)\n",
    "point2 = (4, 5, 6)\n",
    "distance = manhattan_distance(point1, point2)\n",
    "print(\"Manhattan distance:\", distance)"
   ]
  },
  {
   "cell_type": "code",
   "execution_count": null,
   "id": "3dedbbd6-704f-4322-8d46-0a2e37c6dde9",
   "metadata": {},
   "outputs": [],
   "source": []
  }
 ],
 "metadata": {
  "kernelspec": {
   "display_name": "Python 3 (ipykernel)",
   "language": "python",
   "name": "python3"
  },
  "language_info": {
   "codemirror_mode": {
    "name": "ipython",
    "version": 3
   },
   "file_extension": ".py",
   "mimetype": "text/x-python",
   "name": "python",
   "nbconvert_exporter": "python",
   "pygments_lexer": "ipython3",
   "version": "3.10.9"
  }
 },
 "nbformat": 4,
 "nbformat_minor": 5
}
